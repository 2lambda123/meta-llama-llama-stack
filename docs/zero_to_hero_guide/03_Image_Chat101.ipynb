{
 "cells": [
  {
   "cell_type": "markdown",
   "id": "923343b0-d4bd-4361-b8d4-dd29f86a0fbd",
   "metadata": {},
   "source": [
    "## Getting Started with LlamaStack Vision API\n",
    "\n",
    "Before you begin, please ensure Llama Stack is installed and set up by following the [Getting Started Guide](https://llama-stack.readthedocs.io/en/latest/getting_started/index.html).\n",
    "\n",
    "Let's import the necessary packages"
   ]
  },
  {
   "cell_type": "code",
   "execution_count": 1,
   "id": "eae04594-49f9-43af-bb42-9df114d9ddd6",
   "metadata": {},
   "outputs": [],
   "source": [
    "import base64\n",
    "import mimetypes\n",
    "from llama_stack_client import LlamaStackClient\n",
    "from termcolor import cprint"
   ]
  },
  {
   "cell_type": "markdown",
   "id": "143837c6-1072-4015-8297-514712704087",
   "metadata": {},
   "source": [
    "## Configuration\n",
    "Set up your connection parameters:"
   ]
  },
  {
   "cell_type": "code",
   "execution_count": 2,
   "id": "1d293479-9dde-4b68-94ab-d0c4c61ab08c",
   "metadata": {},
   "outputs": [],
   "source": [
    "HOST = \"localhost\"  # Replace with your host\n",
    "PORT = 8321       # Replace with your cloud distro port\n",
    "MODEL_NAME='meta-llama/Llama-3.2-11B-Vision-Instruct'"
   ]
  },
  {
   "cell_type": "markdown",
   "id": "51984856-dfc7-4226-817a-1d44853e6661",
   "metadata": {},
   "source": [
    "## Helper Functions\n",
    "Let's create some utility functions to handle image processing and API interaction:"
   ]
  },
  {
   "cell_type": "code",
   "execution_count": 3,
   "id": "8e65aae0-3ef0-4084-8c59-273a89ac9510",
   "metadata": {},
   "outputs": [],
   "source": [
    "import base64\n",
    "import mimetypes\n",
    "from termcolor import cprint\n",
    "from llama_stack_client.lib.inference.event_logger import EventLogger\n",
    "\n",
    "def encode_image_to_data_url(file_path: str) -> str:\n",
    "    \"\"\"\n",
    "    Encode an image file to a data URL.\n",
    "\n",
    "    Args:\n",
    "        file_path (str): Path to the image file\n",
    "\n",
    "    Returns:\n",
    "        str: Data URL string\n",
    "    \"\"\"\n",
    "    mime_type, _ = mimetypes.guess_type(file_path)\n",
    "    if mime_type is None:\n",
    "        raise ValueError(\"Could not determine MIME type of the file\")\n",
    "\n",
    "    with open(file_path, \"rb\") as image_file:\n",
    "        encoded_string = base64.b64encode(image_file.read()).decode(\"utf-8\")\n",
    "\n",
    "    return f\"data:{mime_type};base64,{encoded_string}\"\n",
    "\n",
    "def chat_with_image(client, image_path: str, stream: bool = False):\n",
    "    \"\"\"\n",
    "    Process an image through the LlamaStack Vision API.\n",
    "\n",
    "    Args:\n",
    "        client (LlamaStackClient): Initialized client\n",
    "        image_path (str): Path to image file\n",
    "        stream (bool): Whether to stream the response\n",
    "    \"\"\"\n",
    "    data_url = encode_image_to_data_url(image_path)\n",
    "    message = {\n",
    "        \"role\": \"user\",\n",
    "         \"content\": [\n",
    "            {\n",
    "                \"type\": \"image\",\n",
    "                \"image\": {\n",
    "                    \"url\": {\n",
    "                        \"uri\": data_url,\n",
    "                    },\n",
    "                },\n",
    "            },\n",
    "            {\n",
    "                \"type\": \"text\",\n",
    "                \"text\": \"Describe what is in this image.\",\n",
    "            },\n",
    "        ],\n",
    "    }\n",
    "\n",
    "    cprint(\"User> Sending image for analysis...\", \"green\")\n",
    "    response = client.inference.chat_completion(\n",
    "        messages=[message],\n",
    "        model_id=MODEL_NAME,\n",
    "        stream=stream,\n",
    "    )\n",
    "    return response\n",
    "    \n"
   ]
  },
  {
   "cell_type": "markdown",
   "id": "8073b673-e730-4557-8980-fd8b7ea11975",
   "metadata": {},
   "source": [
    "## Chat with Image\n",
    "\n",
    "Now let's put it all together:"
   ]
  },
  {
   "cell_type": "code",
   "execution_count": 4,
   "id": "64d36476-95d7-49f9-a548-312cf8d8c49e",
   "metadata": {},
   "outputs": [
    {
     "name": "stdout",
     "output_type": "stream",
     "text": [
      "\u001b[32mUser> Sending image for analysis...\u001b[0m\n",
      "the image is a simple line drawing of a llama sitting on top of a stack of three round objects, with the words \"llama stack\" written above it. the purpose of the image is to create a humorous and playful visual representation of the phrase \"llama stack,\" which is likely a pun or a joke.\n",
      "\n",
      "here are the details of the image:\n",
      "\n",
      "* a llama:\n",
      "\t+ the llama is drawn in a simple, cartoonish style.\n",
      "\t+ it has a long neck and a fluffy body.\n",
      "\t+ its head is turned to the left, and its ears are pointed upwards.\n",
      "* a stack of three round objects:\n",
      "\t+ the objects are stacked on top of each other, with the largest one at the bottom and the smallest one at the top.\n",
      "\t+ they are all roughly the same size and shape, with a slight curve to them.\n",
      "\t+ the objects are not clearly defined, but they appear to be some kind of food or drink item.\n",
      "* the words \"llama stack\":\n",
      "\t+ the words are written in a playful, handwritten font.\n",
      "\t+ they are placed above the llama, slightly to the right of its head.\n",
      "\t+ the text is in a dark gray color, which contrasts with the light gray background.\n",
      "\n",
      "overall, the image is a lighthearted and amusing representation of the phrase \"llama stack.\" it uses simple shapes and lines to create a visually appealing and humorous image.\u001b[0m\n"
     ]
    }
   ],
   "source": [
    "# [Cell 5] - Initialize client and process image\n",
    "def main():\n",
    "    # Initialize client\n",
    "    client = LlamaStackClient(\n",
    "        base_url=f\"http://{HOST}:{PORT}\",\n",
    "    )\n",
    "\n",
    "    # Process image\n",
    "    response = chat_with_image(client, \"../_static/llama-stack-logo.png\")\n",
    "    cprint(response.completion_message.content.lower().strip())\n",
    "\n",
    "\n",
    "\n",
    "# Execute the main function\n",
    "main()"
   ]
  },
  {
   "cell_type": "markdown",
   "id": "9b39efb4",
   "metadata": {},
   "source": [
    "Thanks for checking out this notebook! \n",
    "\n",
    "The next one in the series will teach you one of the favorite applications of Large Language Models: [Tool Calling](./04_Tool_Calling101.ipynb). Enjoy!"
   ]
  }
 ],
 "metadata": {
  "kernelspec": {
   "display_name": "Python 3 (ipykernel)",
   "language": "python",
   "name": "python3"
  },
  "language_info": {
   "codemirror_mode": {
    "name": "ipython",
    "version": 3
   },
   "file_extension": ".py",
   "mimetype": "text/x-python",
   "name": "python",
   "nbconvert_exporter": "python",
   "pygments_lexer": "ipython3",
   "version": "3.10.16"
  }
 },
 "nbformat": 4,
 "nbformat_minor": 5
}
