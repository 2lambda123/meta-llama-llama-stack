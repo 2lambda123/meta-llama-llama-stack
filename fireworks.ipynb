{
 "cells": [
  {
   "cell_type": "code",
   "execution_count": 1,
   "metadata": {},
   "outputs": [],
   "source": [
    "params = {\n",
    "    'model': 'fireworks/llama-v3p1-8b-instruct', \n",
    "    'prompt': \"<|start_header_id|>system<|end_header_id|>\\n\\nCutting Knowledge Date: December 2023\\nToday Date: 13 January 2025\\nYou are a friendly assistant.<|eot_id|><|start_header_id|>user<|end_header_id|>\\n\\nWrite a two-sentence poem about llama.<|eot_id|><|start_header_id|>assistant<|end_header_id|>\\n\\n\", \n",
    "    'stream': True, \n",
    "    'top_p': 0.95, \n",
    "    'max_tokens': 512\n",
    "}"
   ]
  },
  {
   "cell_type": "code",
   "execution_count": 2,
   "metadata": {},
   "outputs": [],
   "source": [
    "from fireworks.client import Fireworks\n",
    "\n",
    "client = Fireworks(api_key=\"5nG2SoTizWFAfE8yVekIqA2Gl7KcMiYTE0omm2bso0uLaehA\")\n",
    "\n",
    "response = client.completions.acreate(**params)"
   ]
  },
  {
   "cell_type": "code",
   "execution_count": 3,
   "metadata": {},
   "outputs": [
    {
     "name": "stdout",
     "output_type": "stream",
     "text": [
      "acreate_streaming\n",
      "id='0c5a38b7-b6d7-4ab7-9938-acf8f5219cc7' object='text_completion' created=1736816828 model='accounts/fireworks/models/llama-v3p1-8b-instruct' choices=[CompletionResponseStreamChoice(index=0, text='Soft', logprobs=None, finish_reason=None)] usage=None\n",
      "id='0c5a38b7-b6d7-4ab7-9938-acf8f5219cc7' object='text_completion' created=1736816828 model='accounts/fireworks/models/llama-v3p1-8b-instruct' choices=[CompletionResponseStreamChoice(index=0, text='ly roaming, gentle soul,\\nThe llama', logprobs=None, finish_reason=None)] usage=None\n",
      "id='0c5a38b7-b6d7-4ab7-9938-acf8f5219cc7' object='text_completion' created=1736816828 model='accounts/fireworks/models/llama-v3p1-8b-instruct' choices=[CompletionResponseStreamChoice(index=0, text=\"'s quiet beauty makes my heart whole\", logprobs=None, finish_reason=None)] usage=None\n",
      "id='0c5a38b7-b6d7-4ab7-9938-acf8f5219cc7' object='text_completion' created=1736816828 model='accounts/fireworks/models/llama-v3p1-8b-instruct' choices=[CompletionResponseStreamChoice(index=0, text='.', logprobs=None, finish_reason=None)] usage=None\n",
      "id='0c5a38b7-b6d7-4ab7-9938-acf8f5219cc7' object='text_completion' created=1736816828 model='accounts/fireworks/models/llama-v3p1-8b-instruct' choices=[CompletionResponseStreamChoice(index=0, text='', logprobs=None, finish_reason='stop')] usage=UsageInfo(prompt_tokens=49, total_tokens=67, completion_tokens=18)\n"
     ]
    }
   ],
   "source": [
    "async for x in response:\n",
    "    print(x)"
   ]
  },
  {
   "cell_type": "markdown",
   "metadata": {},
   "source": [
    "{'model': 'fireworks/llama-v3p1-8b-instruct', 'prompt': '<|start_header_id|>system<|end_header_id|>\\n\\nCutting Knowledge Date: December 2023\\nToday Date: 13 January 2025\\nYou are a friendly assistant.<|eot_id|><|start_header_id|>user<|end_header_id|>\\n\\nWrite a two-sentence poem about llama.<|eot_id|><|start_header_id|>assistant<|end_header_id|>\\n\\n', 'stream': True, 'top_p': 0.95, 'max_tokens': 512}\n",
    "Assistant> acreate_streaming"
   ]
  }
 ],
 "metadata": {
  "kernelspec": {
   "display_name": "fresh",
   "language": "python",
   "name": "python3"
  },
  "language_info": {
   "codemirror_mode": {
    "name": "ipython",
    "version": 3
   },
   "file_extension": ".py",
   "mimetype": "text/x-python",
   "name": "python",
   "nbconvert_exporter": "python",
   "pygments_lexer": "ipython3",
   "version": "3.11.11"
  }
 },
 "nbformat": 4,
 "nbformat_minor": 2
}
